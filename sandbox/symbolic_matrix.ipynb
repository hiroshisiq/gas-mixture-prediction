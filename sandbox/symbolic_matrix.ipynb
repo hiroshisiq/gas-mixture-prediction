{
 "cells": [
  {
   "cell_type": "code",
   "execution_count": 1,
   "metadata": {},
   "outputs": [],
   "source": [
    "import sympy as sp"
   ]
  },
  {
   "cell_type": "code",
   "execution_count": 2,
   "metadata": {},
   "outputs": [],
   "source": [
    "# Startup and configuration\n",
    "n = 18         # 18 random variables\n",
    "b = [None]*n   # list to initialize bij symbols\n",
    "v = [None]*n   # list to initialize vi  symbols (variance)"
   ]
  },
  {
   "cell_type": "code",
   "execution_count": 3,
   "metadata": {},
   "outputs": [],
   "source": [
    "# Create all bij symbols (from b11 to b1818)\n",
    "for i in range(n):\n",
    "    symbol_string = ''\n",
    "    for j in range(i+1):\n",
    "        symbol_string += 'b' + str(i+1) + str(j+1) + ' '\n",
    "    b[i] = sp.symbols(symbol_string)"
   ]
  },
  {
   "cell_type": "code",
   "execution_count": 4,
   "metadata": {},
   "outputs": [],
   "source": [
    "# Start B matrix using bij symbols\n",
    "B = sp.zeros(n,n)\n",
    "B[0, 0] = b[0]       # first symbols is exception not being a list of list\n",
    "for i in range(1,n):\n",
    "    for j in range(i+1):\n",
    "        B[i,j] = b[i][j]"
   ]
  },
  {
   "cell_type": "code",
   "execution_count": 5,
   "metadata": {},
   "outputs": [],
   "source": [
    "# Create all v, variance symbols (from v1 to v18)\n",
    "for i in range(n):\n",
    "    v[i] = sp.symbols(r'\\sigma' + str(i+1))"
   ]
  },
  {
   "cell_type": "code",
   "execution_count": 6,
   "metadata": {},
   "outputs": [
    {
     "data": {
      "text/latex": [
       "$\\displaystyle \\left[\\begin{matrix}\\frac{b_{31}^{2}}{\\sigma3^{2}} + \\frac{b_{21}^{2}}{\\sigma2^{2}} + \\frac{1}{\\sigma1^{2}} & \\frac{b_{31} b_{32}}{\\sigma3^{2}} - \\frac{b_{21}}{\\sigma2^{2}} & - \\frac{b_{31}}{\\sigma3^{2}}\\\\\\frac{b_{31} b_{32}}{\\sigma3^{2}} - \\frac{b_{21}}{\\sigma2^{2}} & \\frac{b_{32}^{2}}{\\sigma3^{2}} + \\frac{1}{\\sigma2^{2}} & - \\frac{b_{32}}{\\sigma3^{2}}\\\\- \\frac{b_{31}}{\\sigma3^{2}} & - \\frac{b_{32}}{\\sigma3^{2}} & \\frac{1}{\\sigma3^{2}}\\end{matrix}\\right]$"
      ],
      "text/plain": [
       "Matrix([\n",
       "[b31**2/\\sigma3**2 + b21**2/\\sigma2**2 + \\sigma1**(-2), b31*b32/\\sigma3**2 - b21/\\sigma2**2, -b31/\\sigma3**2],\n",
       "[                  b31*b32/\\sigma3**2 - b21/\\sigma2**2,   b32**2/\\sigma3**2 + \\sigma2**(-2), -b32/\\sigma3**2],\n",
       "[                                      -b31/\\sigma3**2,                     -b32/\\sigma3**2,   \\sigma3**(-2)]])"
      ]
     },
     "execution_count": 6,
     "metadata": {},
     "output_type": "execute_result"
    }
   ],
   "source": [
    "T = sp.zeros(1,1)\n",
    "T[0,0] = (1/v[0])**2\n",
    "for i in range (1, 3):\n",
    "    # Initialize ti\n",
    "    t = (1/v[i])**2\n",
    "    tt = sp.zeros(1,1)\n",
    "    tt[0,0] = t\n",
    "    \n",
    "    # Initialize  \n",
    "    TMP = sp.zeros(i+1,i+1)\n",
    "    \n",
    "    ## Populate                                                ## row, col\n",
    "    TMP[0:i,   0:i]   = T + t*sp.Transpose(B[i,0:i])*B[i,0:i]  ## [0 , 0]\n",
    "    TMP[0:i,   i:i+1] = -sp.Transpose(t*B[i,0:i])              ## [0 , 1]\n",
    "    TMP[i:i+1, 0:i]   = -t*B[i,0:i]                            ## [1 , 0]\n",
    "    TMP[i:i+1, i:i+1] = tt                                     ## [1 , 1]\n",
    "    \n",
    "    \n",
    "    T = TMP\n",
    "T"
   ]
  },
  {
   "cell_type": "code",
   "execution_count": null,
   "metadata": {},
   "outputs": [],
   "source": []
  },
  {
   "cell_type": "code",
   "execution_count": null,
   "metadata": {},
   "outputs": [],
   "source": []
  },
  {
   "cell_type": "code",
   "execution_count": null,
   "metadata": {},
   "outputs": [],
   "source": []
  }
 ],
 "metadata": {
  "kernelspec": {
   "display_name": "Python 3",
   "language": "python",
   "name": "python3"
  },
  "language_info": {
   "codemirror_mode": {
    "name": "ipython",
    "version": 3
   },
   "file_extension": ".py",
   "mimetype": "text/x-python",
   "name": "python",
   "nbconvert_exporter": "python",
   "pygments_lexer": "ipython3",
   "version": "3.6.8"
  }
 },
 "nbformat": 4,
 "nbformat_minor": 2
}
