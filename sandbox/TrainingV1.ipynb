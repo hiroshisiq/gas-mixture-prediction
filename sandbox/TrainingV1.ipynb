{
 "cells": [
  {
   "cell_type": "markdown",
   "metadata": {},
   "source": [
    "## Training Bayesian Network"
   ]
  },
  {
   "cell_type": "markdown",
   "metadata": {},
   "source": [
    "### Get updated precision matrix from data"
   ]
  },
  {
   "cell_type": "code",
   "execution_count": 1,
   "metadata": {},
   "outputs": [],
   "source": [
    "# Import libraries \n",
    "import pandas as pd \n",
    "import numpy as np"
   ]
  },
  {
   "cell_type": "code",
   "execution_count": 2,
   "metadata": {},
   "outputs": [],
   "source": [
    "# Load CO2 and Ethylene gas mixture file\n",
    "header_names = [\"Time\", \"CO2\", \"Ethylene\", \"Sensor1\", \"Sensor2\", \"Sensor3\", \"Sensor4\", \"Sensor5\", \"Sensor6\", \"Sensor7\", \"Sensor8\", \"Sensor9\", \"Sensor10\", \"Sensor11\", \"Sensor12\", \"Sensor13\", \"Sensor14\", \"Sensor15\", \"Sensor16\"]\n",
    "df = pd.read_csv(\"data/gas-mixture/ethylene_CO.txt\", delim_whitespace=True, skiprows=[0], header=None, names=header_names)\n",
    "\n",
    "# Set time column as index\n",
    "df = df.set_index(\"Time\")"
   ]
  },
  {
   "cell_type": "code",
   "execution_count": 3,
   "metadata": {},
   "outputs": [
    {
     "data": {
      "text/html": [
       "<div>\n",
       "<style scoped>\n",
       "    .dataframe tbody tr th:only-of-type {\n",
       "        vertical-align: middle;\n",
       "    }\n",
       "\n",
       "    .dataframe tbody tr th {\n",
       "        vertical-align: top;\n",
       "    }\n",
       "\n",
       "    .dataframe thead th {\n",
       "        text-align: right;\n",
       "    }\n",
       "</style>\n",
       "<table border=\"1\" class=\"dataframe\">\n",
       "  <thead>\n",
       "    <tr style=\"text-align: right;\">\n",
       "      <th></th>\n",
       "      <th>CO2</th>\n",
       "      <th>Ethylene</th>\n",
       "      <th>Sensor1</th>\n",
       "      <th>Sensor2</th>\n",
       "      <th>Sensor3</th>\n",
       "      <th>Sensor4</th>\n",
       "      <th>Sensor5</th>\n",
       "      <th>Sensor6</th>\n",
       "      <th>Sensor7</th>\n",
       "      <th>Sensor8</th>\n",
       "      <th>Sensor9</th>\n",
       "      <th>Sensor10</th>\n",
       "      <th>Sensor11</th>\n",
       "      <th>Sensor12</th>\n",
       "      <th>Sensor13</th>\n",
       "      <th>Sensor14</th>\n",
       "      <th>Sensor15</th>\n",
       "      <th>Sensor16</th>\n",
       "    </tr>\n",
       "    <tr>\n",
       "      <th>Time</th>\n",
       "      <th></th>\n",
       "      <th></th>\n",
       "      <th></th>\n",
       "      <th></th>\n",
       "      <th></th>\n",
       "      <th></th>\n",
       "      <th></th>\n",
       "      <th></th>\n",
       "      <th></th>\n",
       "      <th></th>\n",
       "      <th></th>\n",
       "      <th></th>\n",
       "      <th></th>\n",
       "      <th></th>\n",
       "      <th></th>\n",
       "      <th></th>\n",
       "      <th></th>\n",
       "      <th></th>\n",
       "    </tr>\n",
       "  </thead>\n",
       "  <tbody>\n",
       "    <tr>\n",
       "      <th>0.00</th>\n",
       "      <td>0.0</td>\n",
       "      <td>0.0</td>\n",
       "      <td>-50.85</td>\n",
       "      <td>-1.95</td>\n",
       "      <td>-41.82</td>\n",
       "      <td>1.30</td>\n",
       "      <td>-4.07</td>\n",
       "      <td>-28.73</td>\n",
       "      <td>-13.49</td>\n",
       "      <td>-3.25</td>\n",
       "      <td>55139.95</td>\n",
       "      <td>50669.50</td>\n",
       "      <td>9626.26</td>\n",
       "      <td>9762.62</td>\n",
       "      <td>24544.02</td>\n",
       "      <td>21420.68</td>\n",
       "      <td>7650.61</td>\n",
       "      <td>6928.42</td>\n",
       "    </tr>\n",
       "    <tr>\n",
       "      <th>0.01</th>\n",
       "      <td>0.0</td>\n",
       "      <td>0.0</td>\n",
       "      <td>-49.40</td>\n",
       "      <td>-5.53</td>\n",
       "      <td>-42.78</td>\n",
       "      <td>0.49</td>\n",
       "      <td>3.58</td>\n",
       "      <td>-34.55</td>\n",
       "      <td>-9.59</td>\n",
       "      <td>5.37</td>\n",
       "      <td>54395.77</td>\n",
       "      <td>50046.91</td>\n",
       "      <td>9433.20</td>\n",
       "      <td>9591.21</td>\n",
       "      <td>24137.13</td>\n",
       "      <td>20930.33</td>\n",
       "      <td>7498.79</td>\n",
       "      <td>6800.66</td>\n",
       "    </tr>\n",
       "    <tr>\n",
       "      <th>0.01</th>\n",
       "      <td>0.0</td>\n",
       "      <td>0.0</td>\n",
       "      <td>-40.04</td>\n",
       "      <td>-16.09</td>\n",
       "      <td>-27.59</td>\n",
       "      <td>0.00</td>\n",
       "      <td>-7.16</td>\n",
       "      <td>-42.14</td>\n",
       "      <td>-12.52</td>\n",
       "      <td>-5.86</td>\n",
       "      <td>53960.02</td>\n",
       "      <td>49299.30</td>\n",
       "      <td>9324.40</td>\n",
       "      <td>9449.81</td>\n",
       "      <td>23628.90</td>\n",
       "      <td>20504.94</td>\n",
       "      <td>7369.67</td>\n",
       "      <td>6697.47</td>\n",
       "    </tr>\n",
       "    <tr>\n",
       "      <th>0.03</th>\n",
       "      <td>0.0</td>\n",
       "      <td>0.0</td>\n",
       "      <td>-47.14</td>\n",
       "      <td>-10.57</td>\n",
       "      <td>-32.28</td>\n",
       "      <td>4.40</td>\n",
       "      <td>-11.22</td>\n",
       "      <td>-37.94</td>\n",
       "      <td>-7.16</td>\n",
       "      <td>-1.14</td>\n",
       "      <td>53047.71</td>\n",
       "      <td>48907.00</td>\n",
       "      <td>9170.64</td>\n",
       "      <td>9305.58</td>\n",
       "      <td>23101.66</td>\n",
       "      <td>20101.42</td>\n",
       "      <td>7285.13</td>\n",
       "      <td>6578.52</td>\n",
       "    </tr>\n",
       "    <tr>\n",
       "      <th>0.04</th>\n",
       "      <td>0.0</td>\n",
       "      <td>0.0</td>\n",
       "      <td>-33.58</td>\n",
       "      <td>-20.79</td>\n",
       "      <td>-33.25</td>\n",
       "      <td>6.03</td>\n",
       "      <td>3.42</td>\n",
       "      <td>-34.22</td>\n",
       "      <td>-14.46</td>\n",
       "      <td>8.31</td>\n",
       "      <td>52700.28</td>\n",
       "      <td>48330.96</td>\n",
       "      <td>9073.64</td>\n",
       "      <td>9163.47</td>\n",
       "      <td>22689.54</td>\n",
       "      <td>19694.07</td>\n",
       "      <td>7156.74</td>\n",
       "      <td>6468.32</td>\n",
       "    </tr>\n",
       "  </tbody>\n",
       "</table>\n",
       "</div>"
      ],
      "text/plain": [
       "      CO2  Ethylene  Sensor1  Sensor2  Sensor3  Sensor4  Sensor5  Sensor6  \\\n",
       "Time                                                                        \n",
       "0.00  0.0       0.0   -50.85    -1.95   -41.82     1.30    -4.07   -28.73   \n",
       "0.01  0.0       0.0   -49.40    -5.53   -42.78     0.49     3.58   -34.55   \n",
       "0.01  0.0       0.0   -40.04   -16.09   -27.59     0.00    -7.16   -42.14   \n",
       "0.03  0.0       0.0   -47.14   -10.57   -32.28     4.40   -11.22   -37.94   \n",
       "0.04  0.0       0.0   -33.58   -20.79   -33.25     6.03     3.42   -34.22   \n",
       "\n",
       "      Sensor7  Sensor8   Sensor9  Sensor10  Sensor11  Sensor12  Sensor13  \\\n",
       "Time                                                                       \n",
       "0.00   -13.49    -3.25  55139.95  50669.50   9626.26   9762.62  24544.02   \n",
       "0.01    -9.59     5.37  54395.77  50046.91   9433.20   9591.21  24137.13   \n",
       "0.01   -12.52    -5.86  53960.02  49299.30   9324.40   9449.81  23628.90   \n",
       "0.03    -7.16    -1.14  53047.71  48907.00   9170.64   9305.58  23101.66   \n",
       "0.04   -14.46     8.31  52700.28  48330.96   9073.64   9163.47  22689.54   \n",
       "\n",
       "      Sensor14  Sensor15  Sensor16  \n",
       "Time                                \n",
       "0.00  21420.68   7650.61   6928.42  \n",
       "0.01  20930.33   7498.79   6800.66  \n",
       "0.01  20504.94   7369.67   6697.47  \n",
       "0.03  20101.42   7285.13   6578.52  \n",
       "0.04  19694.07   7156.74   6468.32  "
      ]
     },
     "execution_count": 3,
     "metadata": {},
     "output_type": "execute_result"
    }
   ],
   "source": [
    "# Check data frame\n",
    "df.head()"
   ]
  },
  {
   "cell_type": "code",
   "execution_count": 4,
   "metadata": {},
   "outputs": [],
   "source": [
    "# Transform data frame in numpy matrix\n",
    "# data = (df.head(1000)).values\n",
    "data = df.values"
   ]
  },
  {
   "cell_type": "code",
   "execution_count": 5,
   "metadata": {},
   "outputs": [],
   "source": [
    "# Calculate mean of each column\n",
    "x_mean = data.mean(0)"
   ]
  },
  {
   "cell_type": "code",
   "execution_count": 6,
   "metadata": {},
   "outputs": [],
   "source": [
    "# Calculate s\n",
    "s = data-x_mean\n",
    "s = (s.T).dot(s)"
   ]
  },
  {
   "cell_type": "code",
   "execution_count": 7,
   "metadata": {},
   "outputs": [],
   "source": [
    "# Calculate M\n",
    "M = data.size"
   ]
  },
  {
   "cell_type": "code",
   "execution_count": 8,
   "metadata": {},
   "outputs": [],
   "source": [
    "# Assuming prior ignorance. v = 0 and beta = 0\n",
    "beta_update = s\n",
    "mi_update = x_mean\n",
    "v_update = M\n",
    "alpha_update = M-1"
   ]
  },
  {
   "cell_type": "code",
   "execution_count": 9,
   "metadata": {},
   "outputs": [],
   "source": [
    "# number of random variables\n",
    "n = 18 \n",
    "\n",
    "# Calculate Phi_Update\n",
    "phi_update = (v_update+1)/(v_update*(alpha_update-n+1))\n",
    "phi_update *= beta_update"
   ]
  },
  {
   "cell_type": "code",
   "execution_count": 10,
   "metadata": {},
   "outputs": [],
   "source": [
    "# Calculate Precision Update\n",
    "precision_update = np.linalg.inv(phi_update)"
   ]
  },
  {
   "cell_type": "markdown",
   "metadata": {},
   "source": [
    "### Calculate Symbolic Precision Matrix"
   ]
  },
  {
   "cell_type": "code",
   "execution_count": 11,
   "metadata": {},
   "outputs": [],
   "source": [
    "import sympy as sp"
   ]
  },
  {
   "cell_type": "code",
   "execution_count": 12,
   "metadata": {},
   "outputs": [],
   "source": [
    "# Startup and configuration\n",
    "n = 18         # 18 random variables\n",
    "b = [None]*n   # list to initialize bij symbols\n",
    "v = [None]*n   # list to initialize vi  symbols (variance)"
   ]
  },
  {
   "cell_type": "code",
   "execution_count": 13,
   "metadata": {},
   "outputs": [],
   "source": [
    "# Create all bij symbols (from b11 to b1818)\n",
    "for i in range(n):\n",
    "    symbol_string = ''\n",
    "    for j in range(i+1):\n",
    "        symbol_string += 'b' + str(i+1) + str(j+1) + ' '\n",
    "    b[i] = sp.symbols(symbol_string)"
   ]
  },
  {
   "cell_type": "code",
   "execution_count": 14,
   "metadata": {},
   "outputs": [],
   "source": [
    "# Start B matrix using bij symbols\n",
    "B = sp.zeros(n,n)\n",
    "B[0, 0] = b[0]       # first symbols is exception not being a list of list\n",
    "for i in range(1,n):\n",
    "    for j in range(i+1):\n",
    "        B[i,j] = b[i][j]"
   ]
  },
  {
   "cell_type": "code",
   "execution_count": 15,
   "metadata": {},
   "outputs": [],
   "source": [
    "# Create all v, variance symbols (from v1 to v18)\n",
    "for i in range(n):\n",
    "    v[i] = sp.symbols(r'\\sigma' + str(i+1))"
   ]
  },
  {
   "cell_type": "code",
   "execution_count": 16,
   "metadata": {},
   "outputs": [],
   "source": [
    "T = sp.zeros(1,1)\n",
    "T[0,0] = (1/v[0])**2\n",
    "for i in range (1, 18):\n",
    "    # Initialize ti\n",
    "#    t = (1/v[i])**2\n",
    "    t = (1/v[i]) # For simplicity variance will be represented without the square\n",
    "    tt = sp.zeros(1,1)\n",
    "    tt[0,0] = t\n",
    "    \n",
    "    # Initialize  \n",
    "    TMP = sp.zeros(i+1,i+1)\n",
    "    \n",
    "    ## Populate                                                ## row, col\n",
    "    TMP[0:i,   0:i]   = T + t*sp.Transpose(B[i,0:i])*B[i,0:i]  ## [0 , 0]\n",
    "    TMP[0:i,   i:i+1] = -sp.Transpose(t*B[i,0:i])              ## [0 , 1]\n",
    "    TMP[i:i+1, 0:i]   = -t*B[i,0:i]                            ## [1 , 0]\n",
    "    TMP[i:i+1, i:i+1] = tt                                     ## [1 , 1]\n",
    "    \n",
    "    \n",
    "    T = TMP\n",
    "# T"
   ]
  },
  {
   "cell_type": "markdown",
   "metadata": {},
   "source": [
    "### Solve Precision Matrix (get parameters $\\sigma_{ij}^*$ and $b_{ij}$)"
   ]
  },
  {
   "cell_type": "code",
   "execution_count": 37,
   "metadata": {},
   "outputs": [],
   "source": [
    "# Start Equation list \n",
    "EQ = sp.zeros(n*n)\n",
    "for i in range(0,n):\n",
    "    for j in range(0,n):\n",
    "        # EQ[(i-1)*n + j] = T[i][j]-precision_update[i][j]        \n",
    "        EQ[i*n + j] = T[i, j]-precision_update[i, j]"
   ]
  },
  {
   "cell_type": "code",
   "execution_count": null,
   "metadata": {},
   "outputs": [],
   "source": [
    "sp.solve(EQ, dict=True)"
   ]
  },
  {
   "cell_type": "code",
   "execution_count": 36,
   "metadata": {},
   "outputs": [
    {
     "data": {
      "text/plain": [
       "-0.0024307339661103276"
      ]
     },
     "execution_count": 36,
     "metadata": {},
     "output_type": "execute_result"
    }
   ],
   "source": []
  },
  {
   "cell_type": "code",
   "execution_count": 19,
   "metadata": {},
   "outputs": [
    {
     "data": {
      "text/latex": [
       "$\\displaystyle -2 + \\frac{1}{\\sigma18}$"
      ],
      "text/plain": [
       "-2 + 1/\\sigma18"
      ]
     },
     "execution_count": 19,
     "metadata": {},
     "output_type": "execute_result"
    }
   ],
   "source": []
  },
  {
   "cell_type": "code",
   "execution_count": 20,
   "metadata": {},
   "outputs": [
    {
     "data": {
      "text/latex": [
       "$\\displaystyle \\frac{b_{93}^{2}}{\\sigma9} + \\frac{b_{83}^{2}}{\\sigma8} + \\frac{b_{73}^{2}}{\\sigma7} + \\frac{b_{63}^{2}}{\\sigma6} + \\frac{b_{53}^{2}}{\\sigma5} + \\frac{b_{43}^{2}}{\\sigma4} + \\frac{1}{\\sigma3} + \\frac{b_{183}^{2}}{\\sigma18} + \\frac{b_{173}^{2}}{\\sigma17} + \\frac{b_{163}^{2}}{\\sigma16} + \\frac{b_{153}^{2}}{\\sigma15} + \\frac{b_{143}^{2}}{\\sigma14} + \\frac{b_{133}^{2}}{\\sigma13} + \\frac{b_{123}^{2}}{\\sigma12} + \\frac{b_{113}^{2}}{\\sigma11} + \\frac{b_{103}^{2}}{\\sigma10}$"
      ],
      "text/plain": [
       "b93**2/\\sigma9 + b83**2/\\sigma8 + b73**2/\\sigma7 + b63**2/\\sigma6 + b53**2/\\sigma5 + b43**2/\\sigma4 + 1/\\sigma3 + b183**2/\\sigma18 + b173**2/\\sigma17 + b163**2/\\sigma16 + b153**2/\\sigma15 + b143**2/\\sigma14 + b133**2/\\sigma13 + b123**2/\\sigma12 + b113**2/\\sigma11 + b103**2/\\sigma10"
      ]
     },
     "execution_count": 20,
     "metadata": {},
     "output_type": "execute_result"
    }
   ],
   "source": []
  },
  {
   "cell_type": "code",
   "execution_count": null,
   "metadata": {},
   "outputs": [],
   "source": []
  }
 ],
 "metadata": {
  "kernelspec": {
   "display_name": "Python 3",
   "language": "python",
   "name": "python3"
  },
  "language_info": {
   "codemirror_mode": {
    "name": "ipython",
    "version": 3
   },
   "file_extension": ".py",
   "mimetype": "text/x-python",
   "name": "python",
   "nbconvert_exporter": "python",
   "pygments_lexer": "ipython3",
   "version": "3.6.8"
  }
 },
 "nbformat": 4,
 "nbformat_minor": 2
}
