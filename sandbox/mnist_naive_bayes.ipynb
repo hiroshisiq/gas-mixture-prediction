{
 "cells": [
  {
   "cell_type": "code",
   "execution_count": 1,
   "metadata": {},
   "outputs": [],
   "source": [
    "import pandas as pd\n",
    "import numpy as np\n",
    "import matplotlib.pyplot as plt\n",
    "import matplotlib.image as mpimg\n",
    "import seaborn as sns\n",
    "%matplotlib inline"
   ]
  },
  {
   "cell_type": "code",
   "execution_count": 2,
   "metadata": {},
   "outputs": [],
   "source": [
    "# Load the data\n",
    "train = pd.read_csv(\"data/digit-recognizer/train.csv\")\n",
    "test = pd.read_csv(\"data/digit-recognizer/test.csv\")"
   ]
  },
  {
   "cell_type": "code",
   "execution_count": 3,
   "metadata": {},
   "outputs": [],
   "source": [
    "Y_train = train[\"label\"]\n",
    "\n",
    "# Drop 'label' column\n",
    "X_train = train.drop(labels = [\"label\"],axis = 1) \n",
    "X_train = np.round(X_train/255)"
   ]
  },
  {
   "cell_type": "code",
   "execution_count": 4,
   "metadata": {},
   "outputs": [
    {
     "data": {
      "text/plain": [
       "1    4684\n",
       "7    4401\n",
       "3    4351\n",
       "9    4188\n",
       "2    4177\n",
       "6    4137\n",
       "0    4132\n",
       "4    4072\n",
       "8    4063\n",
       "5    3795\n",
       "Name: label, dtype: int64"
      ]
     },
     "execution_count": 4,
     "metadata": {},
     "output_type": "execute_result"
    },
    {
     "data": {
      "image/png": "[encoded data removed]",
      "text/plain": [
       "<Figure size 432x288 with 1 Axes>"
      ]
     },
     "metadata": {
      "needs_background": "light"
     },
     "output_type": "display_data"
    }
   ],
   "source": [
    "# free some space\n",
    "# del train \n",
    "\n",
    "# Plot label count\n",
    "g = sns.countplot(Y_train)\n",
    "# Print Label Count\n",
    "Y_train.value_counts()"
   ]
  },
  {
   "cell_type": "code",
   "execution_count": 5,
   "metadata": {},
   "outputs": [],
   "source": [
    "ycount = np.zeros(shape = (10))\n",
    "xcount = np.zeros(shape = (784,10))"
   ]
  },
  {
   "cell_type": "code",
   "execution_count": 6,
   "metadata": {},
   "outputs": [],
   "source": [
    "# Count frequency of pixel is zero and one, for each label\n",
    "for i in range(10):\n",
    "    # select all rows with label i\n",
    "    i_label = train[train['label'] == i]\n",
    "    i_label = i_label.drop(labels = [\"label\"],axis = 1)\n",
    "    \n",
    "    # Threshold training dataset\n",
    "    i_label = np.round(i_label/255)\n",
    "    \n",
    "    \n",
    "    # Count frequency\n",
    "    ycount[i] = ycount[i] + i_label.shape[0]\n",
    "    xcount[:,i] = xcount[:,i] + np.sum(i_label, axis=0)\n",
    "    \n",
    "    # Normalize the probabilities p(x_i/y)\n",
    "    xcount[:,i] = xcount[:,i]/ycount[i]\n",
    "    ycount = ycount/np.sum(ycount)"
   ]
  },
  {
   "cell_type": "code",
   "execution_count": 7,
   "metadata": {},
   "outputs": [],
   "source": [
    "# threshold test data set\n",
    "test = np.round(test/255)"
   ]
  },
  {
   "cell_type": "code",
   "execution_count": 8,
   "metadata": {},
   "outputs": [
    {
     "name": "stdout",
     "output_type": "stream",
     "text": [
      "Infered number: 0\n"
     ]
    },
    {
     "data": {
      "image/png": "[encoded data removed]",
      "text/plain": [
       "<Figure size 432x288 with 1 Axes>"
      ]
     },
     "metadata": {
      "needs_background": "light"
     },
     "output_type": "display_data"
    }
   ],
   "source": [
    "# Select image from test data set\n",
    "id = 110\n",
    "\n",
    "# Plot image for visual validation\n",
    "g = plt.imshow(test.iloc[[id]].values.reshape(28,28))\n",
    "\n",
    "px = ycount\n",
    "x = test.iloc[[id]].values.reshape(784,1)\n",
    "\n",
    "for i in range(10):\n",
    "    px[i] = np.prod(np.dot(xcount[:,i],x))\n",
    "    \n",
    "print(\"Infered number: {}\".format(np.argmax(px)))"
   ]
  },
  {
   "cell_type": "code",
   "execution_count": 44,
   "metadata": {},
   "outputs": [
    {
     "name": "stdout",
     "output_type": "stream",
     "text": [
      "Accuracy is 62.68809523809524%\n"
     ]
    }
   ],
   "source": [
    "# Test accuracy on train data set\n",
    "correct = 0\n",
    "count = 0\n",
    "\n",
    "for i in range(train.shape[0]):\n",
    "    px = ycount\n",
    "    x = X_train.iloc[[i]].values.reshape(784,1)\n",
    "\n",
    "    for j in range(10):\n",
    "        px[j] = np.prod(np.dot(xcount[:,j],x))\n",
    "#         px[j] = np.prod(np.dot(xcount[:,j],x) + np.dot(1-xcount[:,j],1-x))\n",
    "        \n",
    "#     px = px*ycount\n",
    "#     px = px/np.prod(np.dot(np.sum(xcount, axis=1).reshape(784),x) + np.dot(np.sum(xcount, axis=1).reshape(784),1-x))\n",
    "#     px = px/np.prod(np.dot(np.sum(xcount, axis=1).reshape(784),x))\n",
    "          \n",
    "    if np.argmax(px) == Y_train[i]:\n",
    "        correct += 1\n",
    "        \n",
    "    count += 1\n",
    "    \n",
    "print(\"Accuracy is {}%\".format(100*correct/count))"
   ]
  },
  {
   "cell_type": "code",
   "execution_count": null,
   "metadata": {},
   "outputs": [],
   "source": []
  }
 ],
 "metadata": {
  "kernelspec": {
   "display_name": "Python 3",
   "language": "python",
   "name": "python3"
  },
  "language_info": {
   "codemirror_mode": {
    "name": "ipython",
    "version": 3
   },
   "file_extension": ".py",
   "mimetype": "text/x-python",
   "name": "python",
   "nbconvert_exporter": "python",
   "pygments_lexer": "ipython3",
   "version": "3.6.8"
  }
 },
 "nbformat": 4,
 "nbformat_minor": 2
}
