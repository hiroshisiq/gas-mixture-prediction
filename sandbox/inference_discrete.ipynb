{
 "cells": [
  {
   "cell_type": "code",
   "execution_count": 1,
   "metadata": {},
   "outputs": [],
   "source": [
    "from pgmpy.models import BayesianModel\n",
    "from pgmpy.factors.discrete import TabularCPD\n",
    "from pgmpy.inference import BeliefPropagation"
   ]
  },
  {
   "cell_type": "code",
   "execution_count": 2,
   "metadata": {},
   "outputs": [],
   "source": [
    "# Generate model object\n",
    "model = BayesianModel()"
   ]
  },
  {
   "cell_type": "code",
   "execution_count": 3,
   "metadata": {},
   "outputs": [],
   "source": [
    "# Create nodes \n",
    "# H: Hystory of Smoking  B: Bronchitis\n",
    "# L: Lung Cancer         F: Fatigue     \n",
    "# C: Chest X-ray\n",
    "model.add_nodes_from(['H', 'B', 'L', 'F', 'C'])"
   ]
  },
  {
   "cell_type": "code",
   "execution_count": 4,
   "metadata": {},
   "outputs": [],
   "source": [
    "# Create edges\n",
    "model.add_edges_from([('H', 'B'), ('H', 'L'), ('B', 'F'), ('L', 'F'), ('L', 'C')])"
   ]
  },
  {
   "cell_type": "code",
   "execution_count": 5,
   "metadata": {},
   "outputs": [],
   "source": [
    "# Create CPDs\n",
    "\n",
    "# History of Smoking \n",
    "# h0: There is a history of smoking, h1: There is no history of smoking\n",
    "# +-----+-----+\n",
    "# | H_0 | 0.2 |\n",
    "# +-----+-----+\n",
    "# | H_1 | 0.8 |\n",
    "# +-----+-----+\n",
    "cpd_h = TabularCPD(variable='H', variable_card=2, values=[[0.2, 0.8]])\n",
    "\n",
    "# Bronchitis\n",
    "# b0: Bronchitis is present. b1: Bronchitis is is absent\n",
    "# +-----+------+------+\n",
    "# | H   | H_0  | H_1  |\n",
    "# +-----+------+------+\n",
    "# | B_0 | 0.25 | 0.05 |\n",
    "# +-----+------+------+\n",
    "# | B_1 | 0.75 | 0.95 |\n",
    "# +-----+------+------+\n",
    "cpd_b = TabularCPD(variable='B', variable_card=2, \n",
    "                   values=[[0.25, 0.05],\n",
    "                           [0.75, 0.95]],\n",
    "                   evidence=['H'],\n",
    "                   evidence_card=[2])\n",
    "\n",
    "# Lung Cancer\n",
    "# l0: Lung cancer is present, l1: Lung cancer is absent\n",
    "# +-----+-------+---------+\n",
    "# | H   | H_0   | H_1     |\n",
    "# +-----+-------+---------+\n",
    "# | L_0 | 0.003 | 5e-05   |\n",
    "# +-----+-------+---------+\n",
    "# | L_1 | 0.997 | 0.99995 |\n",
    "# +-----+-------+---------+\n",
    "cpd_l = TabularCPD(variable='L', variable_card=2, \n",
    "                   values=[[0.003, 0.00005],\n",
    "                           [0.997, 0.99995]],\n",
    "                   evidence=['H'],\n",
    "                   evidence_card=[2])\n",
    "\n",
    "# Fatigue\n",
    "# f0: Fatigue is present, f1:Fatigue is absent\n",
    "# +-----+------+-----+-----+------+\n",
    "# | B   | B_0  | B_0 | B_1 | B_1  |\n",
    "# +-----+------+-----+-----+------+\n",
    "# | L   | L_0  | L_1 | L_0 | L_1  |\n",
    "# +-----+------+-----+-----+------+\n",
    "# | F_0 | 0.75 | 0.1 | 0.5 | 0.05 |\n",
    "# +-----+------+-----+-----+------+\n",
    "# | F_1 | 0.25 | 0.9 | 0.5 | 0.95 |\n",
    "# +-----+------+-----+-----+------+\n",
    "cpd_f = TabularCPD(variable='F', variable_card=2, \n",
    "                   values=[[0.75, 0.1, 0.5, 0.05],\n",
    "                           [0.25, 0.9, 0.5, 0.95]],\n",
    "                   evidence=['B', 'L'],\n",
    "                   evidence_card=[2, 2])\n",
    "\n",
    "# Chest X-ray\n",
    "# c0: Chest X-ray is positive, c1: Chest X-ray is negative\n",
    "# +-----+-----+------+\n",
    "# | L   | L_0 | L_1  |\n",
    "# +-----+-----+------+\n",
    "# | C_0 | 0.6 | 0.02 |\n",
    "# +-----+-----+------+\n",
    "# | C_1 | 0.4 | 0.98 |\n",
    "# +-----+-----+------+\n",
    "cpd_c = TabularCPD(variable='C', variable_card=2, \n",
    "                   values=[[0.6, 0.02],\n",
    "                           [0.4, 0.98]],\n",
    "                   evidence=['L'],\n",
    "                   evidence_card=[2])"
   ]
  },
  {
   "cell_type": "code",
   "execution_count": 6,
   "metadata": {},
   "outputs": [
    {
     "data": {
      "text/plain": [
       "True"
      ]
     },
     "execution_count": 6,
     "metadata": {},
     "output_type": "execute_result"
    }
   ],
   "source": [
    "# Associating the CPDs with the network\n",
    "model.add_cpds(cpd_h, cpd_b, cpd_l, cpd_f, cpd_c)\n",
    "\n",
    "# check_model checks for the network structure and CPDs and verifies that the CPDs are correctly \n",
    "# defined and sum to 1.\n",
    "model.check_model()"
   ]
  },
  {
   "cell_type": "code",
   "execution_count": 7,
   "metadata": {},
   "outputs": [
    {
     "data": {
      "text/plain": [
       "(B _|_ L, C | H)\n",
       "(L _|_ B | H)\n",
       "(F _|_ H, C | L, B)\n",
       "(C _|_ F, H, B | L)"
      ]
     },
     "execution_count": 7,
     "metadata": {},
     "output_type": "execute_result"
    }
   ],
   "source": [
    "# Getting all the local independencies in the network.\n",
    "model.local_independencies(['H', 'B', 'L', 'F', 'C'])"
   ]
  },
  {
   "cell_type": "code",
   "execution_count": 8,
   "metadata": {},
   "outputs": [
    {
     "name": "stdout",
     "output_type": "stream",
     "text": [
      "+-----+----------+\n",
      "| L   |   phi(L) |\n",
      "+=====+==========+\n",
      "| L_0 |   0.0245 |\n",
      "+-----+----------+\n",
      "| L_1 |   0.9755 |\n",
      "+-----+----------+\n"
     ]
    },
    {
     "name": "stderr",
     "output_type": "stream",
     "text": [
      "/home/hiroshi.siq/Documents/tcc/test_notebook/tnote/lib/python3.6/site-packages/pgmpy/factors/discrete/DiscreteFactor.py:586: FutureWarning: Using a non-tuple sequence for multidimensional indexing is deprecated; use `arr[tuple(seq)]` instead of `arr[seq]`. In the future this will be interpreted as an array index, `arr[np.array(seq)]`, which will result either in an error or a different result.\n",
      "  phi.values = phi.values[slice_]\n",
      "/home/hiroshi.siq/Documents/tcc/test_notebook/tnote/lib/python3.6/site-packages/pgmpy/factors/discrete/DiscreteFactor.py:598: FutureWarning: Using a non-tuple sequence for multidimensional indexing is deprecated; use `arr[tuple(seq)]` instead of `arr[seq]`. In the future this will be interpreted as an array index, `arr[np.array(seq)]`, which will result either in an error or a different result.\n",
      "  phi1.values = phi1.values[slice_]\n",
      "/home/hiroshi.siq/Documents/tcc/test_notebook/tnote/lib/python3.6/site-packages/pgmpy/factors/discrete/DiscreteFactor.py:663: FutureWarning: Using a non-tuple sequence for multidimensional indexing is deprecated; use `arr[tuple(seq)]` instead of `arr[seq]`. In the future this will be interpreted as an array index, `arr[np.array(seq)]`, which will result either in an error or a different result.\n",
      "  phi1.values = phi1.values[slice_]\n"
     ]
    }
   ],
   "source": [
    "# Inference\n",
    "inference = BeliefPropagation(model)\n",
    "print(inference.query(variables=['L'], evidence={'B': 0, 'F': 1, 'C': 0, 'H': 0}) ['L'])"
   ]
  },
  {
   "cell_type": "code",
   "execution_count": 9,
   "metadata": {},
   "outputs": [],
   "source": [
    "# Save model in file\n",
    "from pgmpy.readwrite import BIFWriter\n",
    "\n",
    "writer = BIFWriter(model)\n",
    "writer.network_name = 'cancer_example_from_neapolitan'\n",
    "writer.write_bif('cancer_example.bif')"
   ]
  },
  {
   "cell_type": "code",
   "execution_count": 15,
   "metadata": {},
   "outputs": [
    {
     "name": "stdout",
     "output_type": "stream",
     "text": [
      "['B', 'C', 'F', 'H', 'L']\n",
      "[('B', 'F'), ('H', 'B'), ('H', 'L'), ('L', 'C'), ('L', 'F')]\n"
     ]
    }
   ],
   "source": [
    "# Load model from file\n",
    "from pgmpy.readwrite import BIFReader\n",
    "\n",
    "# Load \n",
    "reader = BIFReader('cancer_example.bif')\n",
    "loaded_model = reader.get_model()\n",
    "\n",
    "# Check\n",
    "print(loaded_model.nodes())\n",
    "print(loaded_model.edges())\n"
   ]
  },
  {
   "cell_type": "code",
   "execution_count": null,
   "metadata": {},
   "outputs": [],
   "source": [
    "\n"
   ]
  }
 ],
 "metadata": {
  "kernelspec": {
   "display_name": "Python 3",
   "language": "python",
   "name": "python3"
  },
  "language_info": {
   "codemirror_mode": {
    "name": "ipython",
    "version": 3
   },
   "file_extension": ".py",
   "mimetype": "text/x-python",
   "name": "python",
   "nbconvert_exporter": "python",
   "pygments_lexer": "ipython3",
   "version": "3.6.8"
  }
 },
 "nbformat": 4,
 "nbformat_minor": 2
}
